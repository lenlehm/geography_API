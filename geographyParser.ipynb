{
 "cells": [
  {
   "cell_type": "code",
   "execution_count": 1,
   "metadata": {
    "collapsed": true
   },
   "outputs": [],
   "source": [
    "import numpy as np\n",
    "import pandas as pd\n",
    "from credentials import USERNAME, PASSWORD\n",
    "from pymongo import MongoClient"
   ]
  },
  {
   "cell_type": "markdown",
   "metadata": {},
   "source": [
    "MongoDb offer a variety of operations, the most important ones are: <br />\n",
    "```python\n",
    "\n",
    "- collection.insert_one({\"dict\": 10}) # inserts one dictionary entry\n",
    "- collection.insert_many([dict1, dict2]) # insert more than 1 dict\n",
    "- collection.find_one({\"_id\": post_id_as_str}) # get one element from database\n",
    "- collection.count_documents({}) # counts entries in collection\n",
    "- collection.remove({\"_id\": id})\n",
    "- collection.update_one({'x': 1}, {'$inc': {'x': 3}})\n",
    "```\n",
    "\n",
    "For more examples, [please look at this site](https://api.mongodb.com/python/current/api/pymongo/collection.html)"
   ]
  },
  {
   "cell_type": "code",
   "execution_count": null,
   "metadata": {
    "collapsed": true
   },
   "outputs": [],
   "source": [
    "## setting up the server\n",
    "cluster = MongoClient('mongodb+srv://' + USERNAME + ':' + PASSWORD + '@cluster0-zsqe9.gcp.mongodb.net/test?retryWrites=true&w=majority')\n",
    "db = cluster['geography']\n",
    "collection = db['cities']\n",
    "countriesCollection = db['countries']"
   ]
  },
  {
   "cell_type": "code",
   "execution_count": 3,
   "metadata": {},
   "outputs": [
    {
     "data": {
      "text/plain": [
       "<pymongo.results.InsertOneResult at 0x209fc8b0ac8>"
      ]
     },
     "execution_count": 3,
     "metadata": {},
     "output_type": "execute_result"
    }
   ],
   "source": [
    "## const variable to get the square km entry\n",
    "conversionToSquareKm = 2.58999 # sq mi / conversionToSquareKm = sq km\n",
    "\n",
    "inputPost = {\"city\": \"Sunnyvale\", \n",
    "             \"federalState\": \"CA\", \n",
    "             \"country\": \"USA\", \n",
    "             \"population\": 153185,\n",
    "             \"density [ppl/ sq mi]\": 6949.51,\n",
    "             \"area [sq mi]\": 22.69,\n",
    "             \"elevation [m]\": 38}\n",
    "\n",
    "collection.insert_one(inputPost)"
   ]
  },
  {
   "cell_type": "code",
   "execution_count": null,
   "metadata": {
    "collapsed": true
   },
   "outputs": [],
   "source": [
    "## Add a country element\n",
    "country = {\"_id\": 0,\n",
    "           \"country\": 'USA',\n",
    "           \"population\": 328239523,\n",
    "           \"area [sq mi]\": 3796742,\n",
    "           \"density [ppl / sq mi]\": 87,\n",
    "           \"president\": \"Donald Trump\",\n",
    "           \"GDP [$]\": 21439000000000,\n",
    "           \"GDP per capita\": 65112,\n",
    "           \"Human Development Index\": 0.92,\n",
    "           \"Gini Index\": 39.0}\n",
    "\n",
    "countriesCollection.insert_one(country)"
   ]
  }
 ],
 "metadata": {
  "kernelspec": {
   "display_name": "Python 3",
   "language": "python",
   "name": "python3"
  },
  "language_info": {
   "codemirror_mode": {
    "name": "ipython",
    "version": 3
   },
   "file_extension": ".py",
   "mimetype": "text/x-python",
   "name": "python",
   "nbconvert_exporter": "python",
   "pygments_lexer": "ipython3",
   "version": "3.6.4"
  }
 },
 "nbformat": 4,
 "nbformat_minor": 2
}
